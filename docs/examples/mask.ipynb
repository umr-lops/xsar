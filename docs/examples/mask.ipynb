{
 "cells": [
  {
   "cell_type": "markdown",
   "id": "a1ab1e9d-1d51-410f-b7ee-44c8a5d8302d",
   "metadata": {},
   "source": [
    "# Raster masks from vector masks\n",
    "\n",
    "[xsar.Sentinel1Dataset.dataset](../basic_api.rst#xsar.Sentinel1Dataset.dataset) has a `land_mask` variable by default, rasterized from [`cartopy.feature.NaturalEarthFeature('physical', 'land', '10m')`](https://scitools.org.uk/cartopy/docs/latest/matplotlib/feature_interface.html#cartopy.feature.NaturalEarthFeature)\n",
    "\n"
   ]
  },
  {
   "cell_type": "markdown",
   "id": "30ee86ce-89ac-4dc5-acef-3340dbb83f69",
   "metadata": {},
   "source": [
    "## Mask sigma0 over land\n",
    "\n",
    "Replacing `sigma0` values with `nan` over ocean can be done with `xarray.where`"
   ]
  },
  {
   "cell_type": "code",
   "execution_count": null,
   "id": "efcf8a7b-ce6c-4b0a-b1c6-295e82e60d9d",
   "metadata": {},
   "outputs": [],
   "source": [
    "import xarray as xr\n",
    "import xsar\n",
    "import numpy as np\n",
    "import os\n",
    "ds = xsar.open_dataset(xsar.get_test_file('S1B_IW_GRDH_1SDV_20181013T062322_20181013T062347_013130_018428_Z010.SAFE'))\n",
    "\n",
    "# apply land_mask. The final transpose is done to preserve dimensions ordering\n",
    "ds['sigma0_land'] = xr.where(ds['land_mask'], ds['sigma0'], np.nan).transpose(*ds['sigma0'].dims)\n",
    "ds['sigma0_land']\n"
   ]
  },
  {
   "cell_type": "markdown",
   "id": "b6e5b081-8af9-4c8c-859e-e1fabac5ac9d",
   "metadata": {},
   "source": [
    "## Adding masks\n",
    "\n",
    "Masks can be added with [xsar.Sentinel1Meta.set_mask_feature](../basic_api.rst#xsar.Sentinel1Meta.set_mask_feature), providing a shapefile or a [cartopy.feature.Feature](https://scitools.org.uk/cartopy/docs/latest/matplotlib/feature_interface.html) object.\n",
    "\n",
    "For a default mask for all SAFE, use classmethod `xsar.Sentinel1Meta.set_mask_feature` \n",
    "\n",
    "Here, we add a `ocean_mask` dataset variable:"
   ]
  },
  {
   "cell_type": "code",
   "execution_count": null,
   "id": "463bf8db-9074-4e8a-a084-5994db6035f9",
   "metadata": {},
   "outputs": [],
   "source": [
    "xsar.Sentinel1Meta.set_mask_feature('ocean', os.path.join(xsar.get_test_file('water-polygons-split-4326'), 'water_polygons.shp'))\n",
    "\n",
    "\n",
    "s1meta = xsar.Sentinel1Meta(xsar.get_test_file('S1B_IW_GRDH_1SDV_20181013T062322_20181013T062347_013130_018428_Z010.SAFE'))\n",
    "ds = xsar.open_dataset(s1meta)\n",
    "ds['sigma0_ocean'] = xr.where(ds['ocean_mask'], ds['sigma0'], np.nan).transpose(*ds['sigma0'].dims)\n",
    "ds[['sigma0_ocean','ocean_mask']]\n"
   ]
  },
  {
   "cell_type": "markdown",
   "id": "cb1a5ad1-2134-497a-977d-2ce08b830ea0",
   "metadata": {},
   "source": [
    "Masks are available as a shapely object (lon/lat coordinates), with [xsar.Sentinel1Meta.get_mask](../basic_api.rst#xsar.Sentinel1Meta.get_mask):"
   ]
  },
  {
   "cell_type": "markdown",
   "id": "e8b08ff3-4019-49db-aed7-7ec62a02374f",
   "metadata": {},
   "source": [
    "When using this `s1meta` object with  [xsar.Sentinel1Meta.footprint](../basic_api.rst#xsar.Sentinel1Meta.footprint), mask are rasterized over the dataset, and variables postfixed with `_mask` are created."
   ]
  },
  {
   "cell_type": "markdown",
   "id": "5a0aa1d4-48dc-4423-901d-12b6e64df964",
   "metadata": {},
   "source": [
    "## Convert a mask to dataset coordinates\n",
    "\n",
    "[xsar.Sentinel1Meta.ll2coords](../basic_api.rst#xsar.Sentinel1Meta.ll2coords) allow converting lon/lat coordinates on shapely objects.\n",
    "\n",
    "So it's possible to plot the vector mask on a raster variable:"
   ]
  },
  {
   "cell_type": "code",
   "execution_count": null,
   "id": "a0fdca85-ab43-4433-b345-951680857a36",
   "metadata": {},
   "outputs": [],
   "source": [
    "import holoviews as hv\n",
    "import geoviews.feature as gf\n",
    "hv.extension('bokeh')\n",
    "from holoviews.operation.datashader import datashade,rasterize\n",
    "\n",
    "# open the safe as an Sentinel1Dataset object\n",
    "xds = xsar.Sentinel1Dataset(xsar.get_test_file('S1B_IW_GRDH_1SDV_20181013T062322_20181013T062347_013130_018428_Z000.SAFE'))\n",
    "# use s1meta property to set a new land mask\n",
    "xds.s1meta.set_mask_feature('land', os.path.join(xsar.get_test_file('land-polygons-split-4326'),'land_polygons.shp'))\n",
    "\n",
    "# get the shapely polygon of the mask (on the footprint, lon/lat)\n",
    "land_poly = xds.s1meta.get_mask('land')\n",
    "\n",
    "# convert lon/lat to atrack/xtrack\n",
    "land_poly_coords = xds.s1meta.ll2coords(s1meta.get_mask('land'))\n",
    "\n",
    "# get the xarray dataset\n",
    "ds = xds.dataset\n",
    "\n",
    "# apply mask on sigma0\n",
    "ds['sigma0_ocean'] = xr.where(ds['ocean_mask'], ds['sigma0'], np.nan).transpose(*ds['sigma0'].dims)\n",
    "\n",
    "# plot masked sigma0, with coastline\n",
    "rasterize(hv.Image(((ds['sigma0_ocean'].sel(pol='VV')))).opts(cmap='gray',clim=(0,0.2), colorbar=True,tools=['hover'],title=\"xsar\")) \\\n",
    "* hv.Path(land_poly_coords).opts(color='lightgreen',width=800,height=800) "
   ]
  },
  {
   "cell_type": "code",
   "execution_count": null,
   "id": "f878d4b5",
   "metadata": {},
   "outputs": [],
   "source": []
  }
 ],
 "metadata": {
  "language_info": {
   "name": "python",
   "pygments_lexer": "ipython3"
  }
 },
 "nbformat": 4,
 "nbformat_minor": 5
}
