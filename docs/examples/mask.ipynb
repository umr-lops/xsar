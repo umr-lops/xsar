{
 "cells": [
  {
   "cell_type": "markdown",
   "id": "a1ab1e9d-1d51-410f-b7ee-44c8a5d8302d",
   "metadata": {},
   "source": [
    "# Raster masks from vector masks\n",
    "\n",
    "[xsar.Sentinel1Dataset.dataset](../basic_api.rst#xsar.Sentinel1Dataset.dataset) has a `land_mask` variable by default, rasterized from [`cartopy.feature.NaturalEarthFeature('physical', 'land', '10m')`](https://scitools.org.uk/cartopy/docs/latest/matplotlib/feature_interface.html#cartopy.feature.NaturalEarthFeature)\n",
    "\n"
   ]
  },
  {
   "cell_type": "markdown",
   "id": "30ee86ce-89ac-4dc5-acef-3340dbb83f69",
   "metadata": {},
   "source": [
    "## Mask sigma0 over land\n",
    "\n",
    "Replacing `sigma0` values with `nan` over land can be done with `xarray.where`"
   ]
  },
  {
   "cell_type": "code",
   "execution_count": null,
   "id": "efcf8a7b-ce6c-4b0a-b1c6-295e82e60d9d",
   "metadata": {},
   "outputs": [],
   "source": [
    "import xarray as xr\n",
    "import xsar\n",
    "import numpy as np\n",
    "import os\n",
    "ds = xsar.open_dataset(xsar.get_test_file('S1B_IW_GRDH_1SDV_20181013T062322_20181013T062347_013130_018428_Z010.SAFE'))\n",
    "\n",
    "# apply land_mask. The final transpose is done to preserve dimensions ordering\n",
    "ds['sigma0_ocean'] = xr.where(ds['land_mask'], np.nan, ds['sigma0']).transpose(*ds['sigma0'].dims)\n",
    "ds['sigma0_ocean']\n"
   ]
  },
  {
   "cell_type": "markdown",
   "id": "b6e5b081-8af9-4c8c-859e-e1fabac5ac9d",
   "metadata": {},
   "source": [
    "## Adding masks\n",
    "\n",
    "Masks can be added with [xsar.Sentinel1Meta.set_mask_feature](../basic_api.rst#xsar.Sentinel1Meta.set_mask_feature), providing a shapefile or a [cartopy.feature.Feature](https://scitools.org.uk/cartopy/docs/latest/matplotlib/feature_interface.html) object.\n",
    "\n",
    "Here, we add a `ocean` mask:"
   ]
  },
  {
   "cell_type": "code",
   "execution_count": null,
   "id": "463bf8db-9074-4e8a-a084-5994db6035f9",
   "metadata": {},
   "outputs": [],
   "source": [
    "import cartopy\n",
    "s1meta = xsar.Sentinel1Meta(xsar.get_test_file('S1B_IW_GRDH_1SDV_20181013T062322_20181013T062347_013130_018428_Z000.SAFE'))\n",
    "s1meta.set_mask_feature('ocean', cartopy.feature.NaturalEarthFeature('physical', 'ocean', '10m'))"
   ]
  },
  {
   "cell_type": "markdown",
   "id": "79cf1e64-1c8b-4374-9b36-e03dd94b48b5",
   "metadata": {},
   "source": [
    "Here, we change the default 'land' mask for a high resolution shapefile from openstreetmap"
   ]
  },
  {
   "cell_type": "code",
   "execution_count": null,
   "id": "20674f92-e539-43f7-8ef4-eee252c1b2e6",
   "metadata": {},
   "outputs": [],
   "source": [
    "s1meta.set_mask_feature('land', os.path.join(xsar.get_test_file('land-polygons-split-4326'),'land_polygons.shp'))"
   ]
  },
  {
   "cell_type": "markdown",
   "id": "cb1a5ad1-2134-497a-977d-2ce08b830ea0",
   "metadata": {},
   "source": [
    "Masks are available as a shapely object (lon/lat coordinates), with [xsar.Sentinel1Meta.get_mask](../basic_api.rst#xsar.Sentinel1Meta.get_mask):"
   ]
  },
  {
   "cell_type": "code",
   "execution_count": null,
   "id": "81598ee9-dfb7-434c-8e22-90152ed3ae17",
   "metadata": {},
   "outputs": [],
   "source": [
    "s1meta.get_mask('ocean')"
   ]
  },
  {
   "cell_type": "markdown",
   "id": "e8b08ff3-4019-49db-aed7-7ec62a02374f",
   "metadata": {},
   "source": [
    "When using this `s1meta` object with  [xsar.Sentinel1Meta.footprint](../basic_api.rst#xsar.Sentinel1Meta.footprint), mask are rasterized over the dataset, and variables postfixed with `_mask` are created."
   ]
  },
  {
   "cell_type": "code",
   "execution_count": null,
   "id": "ee30e025-ca81-4218-9364-8dc707d76542",
   "metadata": {},
   "outputs": [],
   "source": [
    "del ds\n",
    "ds = xsar.open_dataset(s1meta,resolution={'atrack':10,'xtrack':10})\n",
    "ds\n",
    "#ds['ocean_mask']"
   ]
  },
  {
   "cell_type": "markdown",
   "id": "5a0aa1d4-48dc-4423-901d-12b6e64df964",
   "metadata": {},
   "source": [
    "## Convert a mask to dataset coordinates\n",
    "\n",
    "[xsar.Sentinel1Meta.ll2coords](../basic_api.rst#xsar.Sentinel1Meta.ll2coords) allow converting lon/lat coordinates on shapely objects.\n",
    "\n",
    "So it's possible to plot the vector mask on a raster variable:"
   ]
  },
  {
   "cell_type": "code",
   "execution_count": null,
   "id": "a0fdca85-ab43-4433-b345-951680857a36",
   "metadata": {},
   "outputs": [],
   "source": [
    "import holoviews as hv\n",
    "import geoviews as gv\n",
    "import geoviews.feature as gf\n",
    "hv.extension('bokeh')\n",
    "gv.extension('bokeh')\n",
    "from holoviews.operation.datashader import datashade,rasterize\n",
    "\n",
    "land_poly = s1meta.get_mask('land')\n",
    "land_poly_coords = s1meta.ll2coords(s1meta.get_mask('land'))\n",
    "\n",
    "ds['sigma0_ocean'] = xr.where(ds['land_mask'], np.nan, ds['sigma0']).transpose(*ds['sigma0'].dims)\n",
    "\n",
    "rasterize(hv.Image(((ds['sigma0_ocean'].sel(pol='VV')))).opts(cmap='gray',clim=(0,0.2), colorbar=True,tools=['hover'],title=\"xsar\")) \\\n",
    "* hv.Path(land_poly_coords).opts(color='lightgreen',width=800,height=800) "
   ]
  },
  {
   "cell_type": "markdown",
   "id": "c56abb50",
   "metadata": {},
   "source": [
    "## Performance comparison"
   ]
  },
  {
   "cell_type": "code",
   "execution_count": null,
   "id": "5349e408",
   "metadata": {},
   "outputs": [],
   "source": [
    "# Following code is to compare performances for different methods: it's not usefull for the end user\n",
    "import pandas as pd\n",
    "import datetime\n",
    "index = ['default', 'ne_10m_land', 'gshhs_full_land' , 'osm']\n",
    "columns = ['feature_f', 'feature_init_time', 'land_footprint_time', 'land_footprint_ax_time', 'rasterize_time']\n",
    "\n",
    "land_features_df = pd.DataFrame(index=index, columns=columns)\n",
    "land_features_df.loc['default', 'feature_f'] = lambda: cartopy.feature.LAND\n",
    "land_features_df.loc['ne_10m_land', 'feature_f'] = lambda: cartopy.feature.NaturalEarthFeature('physical', 'land', '10m')\n",
    "land_features_df.loc['gshhs_full_land', 'feature_f'] = lambda: cartopy.feature.GSHHSFeature(scale='full')\n",
    "land_features_df.loc['osm', 'feature_f'] = lambda: os.path.join(xsar.get_test_file('land-polygons-split-4326'),'land_polygons.shp')\n",
    "\n",
    "raster_shape = s1meta.rio.shape\n",
    "for feature_idx, feature_rows in land_features_df.iterrows():\n",
    "    t1 = datetime.datetime.now()\n",
    "    s1meta.set_mask_feature('land',feature_rows['feature_f']())\n",
    "    land_features_df.at[feature_idx, 'feature_init_time'] = datetime.datetime.now() - t1\n",
    "    t1 = datetime.datetime.now()\n",
    "    land_footprint = s1meta.get_mask('land')\n",
    "    land_features_df.at[feature_idx, 'land_footprint_time'] = datetime.datetime.now() - t1\n",
    "    t1 = datetime.datetime.now()\n",
    "    land_footprint_ax = s1meta.ll2coords(land_footprint)\n",
    "    land_features_df.at[feature_idx, 'land_footprint_ax_time'] = datetime.datetime.now() - t1\n",
    "    ds = xsar.open_dataset(s1meta)\n",
    "    t1 = datetime.datetime.now()\n",
    "    raster = ds['land_mask'].persist()\n",
    "    del raster\n",
    "    land_features_df.at[feature_idx, 'rasterize_time'] = datetime.datetime.now() - t1\n",
    "land_features_df\n"
   ]
  }
 ],
 "metadata": {
  "language_info": {
   "name": "python",
   "pygments_lexer": "ipython3"
  }
 },
 "nbformat": 4,
 "nbformat_minor": 5
}
